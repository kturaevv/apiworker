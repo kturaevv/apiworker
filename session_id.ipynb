{
 "cells": [
  {
   "cell_type": "code",
   "execution_count": null,
   "id": "6dbbbbfc-d42d-4ab6-9368-49f46b8b741d",
   "metadata": {},
   "outputs": [],
   "source": [
    "import pandas as pd\n",
    "from bucket_generator import generate_session_id\n",
    "from utils import create_dataframe"
   ]
  },
  {
   "cell_type": "code",
   "execution_count": null,
   "id": "0a3e3730-1d1b-45ff-ab93-1b0def6c6a52",
   "metadata": {},
   "outputs": [],
   "source": [
    "df = create_dataframe(10000)"
   ]
  },
  {
   "cell_type": "code",
   "execution_count": null,
   "id": "68f8faf1-873f-493c-8699-e476c9099168",
   "metadata": {},
   "outputs": [],
   "source": [
    "df['datetime'] = df['timestamp'].apply(lambda x: pd.Timestamp(x, unit='s'))"
   ]
  },
  {
   "cell_type": "code",
   "execution_count": null,
   "id": "8b39a65a-e7e9-4736-abe4-d2b3a7ab97d9",
   "metadata": {},
   "outputs": [],
   "source": [
    "df"
   ]
  },
  {
   "cell_type": "code",
   "execution_count": null,
   "id": "97e3915b-fd09-496f-a8b9-c89e02b9e7fb",
   "metadata": {},
   "outputs": [],
   "source": [
    "df['session_id'] = df['timestamp'].apply(lambda x: generate_session_id(x))"
   ]
  },
  {
   "cell_type": "code",
   "execution_count": null,
   "id": "c2790fe2-d7ef-4b2b-bb40-fbf283a80f4e",
   "metadata": {},
   "outputs": [],
   "source": [
    "df.sort_values(by='datetime', inplace=True)\n",
    "df.head(30)"
   ]
  },
  {
   "cell_type": "code",
   "execution_count": null,
   "id": "f73d95b9-cfc8-4ab7-b139-112df4529ee5",
   "metadata": {},
   "outputs": [],
   "source": [
    "import datetime\n",
    "from datetime import timedelta\n",
    "import numpy as np\n",
    "\n",
    "now = datetime.datetime.now()\n",
    "\n",
    "x = generate_session_id(now.timestamp())\n",
    "y = generate_session_id((now + timedelta(minutes=2)).timestamp())\n",
    "z = generate_session_id((now + timedelta(minutes=3)).timestamp())\n"
   ]
  },
  {
   "cell_type": "code",
   "execution_count": null,
   "id": "8e5472e1",
   "metadata": {},
   "outputs": [],
   "source": [
    "\n",
    "while True:\n",
    "    try:    \n",
    "        dt = datetime.datetime(\n",
    "            np.random.randint(1,3000),\n",
    "            np.random.randint(1,12),\n",
    "            np.random.randint(1,28),\n",
    "            np.random.randint(0,23),\n",
    "            np.random.randint(0,59),\n",
    "        )\n",
    "\n",
    "        generate_session_id(dt.timestamp())\n",
    "    except Exception as e:\n",
    "        print(e, dt)\n",
    "        exit()"
   ]
  },
  {
   "cell_type": "code",
   "execution_count": null,
   "id": "5ffd6147",
   "metadata": {},
   "outputs": [],
   "source": [
    "dt = datetime.datetime(1970,1,1,1,26)\n",
    "generate_session_id(dt.timestamp())"
   ]
  },
  {
   "cell_type": "code",
   "execution_count": null,
   "id": "5028b80e",
   "metadata": {},
   "outputs": [],
   "source": [
    "dt.timestamp()"
   ]
  },
  {
   "cell_type": "code",
   "execution_count": null,
   "id": "1df7124e",
   "metadata": {},
   "outputs": [],
   "source": []
  }
 ],
 "metadata": {
  "kernelspec": {
   "display_name": "Python 3.10.6 ('sample_api')",
   "language": "python",
   "name": "python3"
  },
  "language_info": {
   "codemirror_mode": {
    "name": "ipython",
    "version": 3
   },
   "file_extension": ".py",
   "mimetype": "text/x-python",
   "name": "python",
   "nbconvert_exporter": "python",
   "pygments_lexer": "ipython3",
   "version": "3.10.6"
  },
  "vscode": {
   "interpreter": {
    "hash": "27361320291f0d98ca902e3a846961a09bd41220f8bbee27dc2ae48f21f74b18"
   }
  }
 },
 "nbformat": 4,
 "nbformat_minor": 5
}
